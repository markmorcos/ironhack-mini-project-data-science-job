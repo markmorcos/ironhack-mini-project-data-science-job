{
 "cells": [
  {
   "cell_type": "code",
   "execution_count": null,
   "id": "36cd1e70-7af0-4c83-9e2c-35df97222e5a",
   "metadata": {},
   "outputs": [],
   "source": [
    "import plotly as pl\n",
    "import plotly.express as px\n",
    "import pandas as pd"
   ]
  },
  {
   "cell_type": "code",
   "execution_count": null,
   "id": "54033b17-717a-4a4e-9a63-b26cc8d30b32",
   "metadata": {},
   "outputs": [],
   "source": [
    "H2 = pd.read_csv(\"H2.csv\")\n",
    "H1 = pd.read_csv(\"H1.csv\")\n",
    "H2"
   ]
  },
  {
   "cell_type": "code",
   "execution_count": null,
   "id": "2ebbc336-2913-4f20-9ce6-2177f7352861",
   "metadata": {},
   "outputs": [],
   "source": [
    "fig = px.bar(\n",
    "    H1,\n",
    "    x='job_category',\n",
    "    y='salary_per_year',\n",
    "    title='Average Salary per Job Category',\n",
    "    labels={'salary_per_year': 'Salary per Year (USD)', 'job_category': 'Job Category'},\n",
    "    text='salary_per_year'  # Show salary values on bars\n",
    ")\n",
    "\n",
    "# Show plot with salary labels\n",
    "fig.update_traces(\n",
    "    texttemplate='$%{text:,.2f}',  # Adds commas and limits to 2 decimals\n",
    "    textposition='outside'\n",
    ")\n",
    "fig.update_yaxes(range=[0, max(H1['salary_per_year']) * 1.1])  # Add padding to y-axis\n",
    "fig.show()"
   ]
  },
  {
   "cell_type": "code",
   "execution_count": null,
   "id": "ac8cfc7c-ec18-44cf-9043-ec4ecf556ae9",
   "metadata": {},
   "outputs": [],
   "source": [
    "fig = px.bar(\n",
    "    H2,\n",
    "    x='employment_type',\n",
    "    y='average_salary',\n",
    "    title='Average Salary per Job',\n",
    "    labels={'average_salary': 'Salary per Year (USD)', 'employment_type': 'Employment Type'},\n",
    "    text='average_salary'  # Show salary values on bars\n",
    ")\n",
    "\n",
    "# Show plot with salary labels\n",
    "fig.update_traces(\n",
    "    texttemplate='$%{text:,.2f}',  # Adds commas and limits to 2 decimals\n",
    "    textposition='outside'\n",
    ")\n",
    "fig.update_yaxes(range=[0, max(H2['average_salary']) * 1.1])  # Add padding to y-axis\n",
    "fig.show()"
   ]
  },
  {
   "cell_type": "code",
   "execution_count": null,
   "id": "4421de96-4a80-4160-9407-d6996ad06d95",
   "metadata": {},
   "outputs": [],
   "source": [
    "H3 = pd.read_csv(\"H3_company_location_remote_ES.csv\")\n",
    "filtered_H3 = H3[H3['job_title'] == \"Data Analyst\"]\n",
    "filtered_H3_sorted = filtered_H3.sort_values(by='salary_per_year', ascending=False)\n",
    "filtered_H3_sorted.reset_index()"
   ]
  },
  {
   "cell_type": "code",
   "execution_count": null,
   "id": "b403cfb0-95ab-4282-8bea-fa83a2260256",
   "metadata": {},
   "outputs": [],
   "source": [
    "fig = px.bar(\n",
    "    filtered_H3_sorted,\n",
    "    x='company_location',\n",
    "    y='salary_per_year',\n",
    "    color='company_location',  # Optional, to distinguish locations by color\n",
    "    title='REMOTE Data Analyst Salary by Location',\n",
    "    labels={'salary_per_year': 'Salary per Year (USD)', 'company_location': 'Company Location'},\n",
    "    text='salary_per_year'  # Display salary values on the bars\n",
    ")\n",
    "\n",
    "# Add salary labels on the bars\n",
    "fig.update_traces(\n",
    "    texttemplate='$%{text:,.2f}',  # Adds commas and formats to 2 decimals\n",
    "    textposition='outside'\n",
    ")\n",
    "\n",
    "# Update y-axis to add padding\n",
    "fig.update_yaxes(range=[0, max(filtered_H3_sorted['salary_per_year']) * 1.1])\n",
    "\n",
    "# Show the plot\n",
    "fig.show()"
   ]
  },
  {
   "cell_type": "code",
   "execution_count": null,
   "id": "ed7987a9-c4e7-40fc-8b87-8785f8177346",
   "metadata": {},
   "outputs": [],
   "source": [
    "H3_percentage_ALV = pd.read_csv(\"H3_cost_comp_between_avg_sal_vs_comp_avg_sal(ALV).csv\")"
   ]
  },
  {
   "cell_type": "code",
   "execution_count": null,
   "id": "6daab1a0-35ce-44e9-ae36-2dc85524ece8",
   "metadata": {},
   "outputs": [],
   "source": [
    "H3_percentage_ALV_filtered = H3_percentage_ALV[H3_percentage_ALV[\"employee_residence_country\"]== \"Germany\"]"
   ]
  },
  {
   "cell_type": "code",
   "execution_count": null,
   "id": "93f3feb3-018c-4387-a217-6a3d665d83b3",
   "metadata": {},
   "outputs": [],
   "source": [
    "H3_percentage_ALV_filtered = H3_percentage_ALV[(H3_percentage_ALV[\"work_setting\"] == \"Remote\") & \n",
    "                                                (H3_percentage_ALV[\"employee_residence_country\"] == \"Germany\")]\n",
    "\n",
    "# Display the filtered DataFrame\n",
    "H3_percentage_ALV_filtered"
   ]
  },
  {
   "cell_type": "code",
   "execution_count": null,
   "id": "8f517d0c-2999-4d6d-bfbb-073513210873",
   "metadata": {},
   "outputs": [],
   "source": [
    "H3_percentage_ALV_filtered_UK = H3_percentage_ALV[(H3_percentage_ALV[\"work_setting\"] == \"Remote\") & \n",
    "                                                (H3_percentage_ALV[\"employee_residence_country\"] == \"United Kingdom\")]\n",
    "\n",
    "# Display the filtered DataFrame\n",
    "H3_percentage_ALV_filtered_UK"
   ]
  },
  {
   "cell_type": "code",
   "execution_count": null,
   "id": "f0c498d0-943f-4cef-a89b-380f3bc4d5b0",
   "metadata": {},
   "outputs": [],
   "source": [
    "H3_percentage_ALV_filtered_India = H3_percentage_ALV[(H3_percentage_ALV[\"work_setting\"] == \"Remote\") & \n",
    "                                                (H3_percentage_ALV[\"employee_residence_country\"] == \"India\")]\n",
    "\n",
    "# Display the filtered DataFrame\n",
    "H3_percentage_ALV_filtered_India"
   ]
  },
  {
   "cell_type": "code",
   "execution_count": null,
   "id": "ba2adce2-418d-4dc4-a7fe-b6a197243a73",
   "metadata": {},
   "outputs": [],
   "source": [
    "fig = px.bar(\n",
    "    H3_percentage_ALV_filtered,\n",
    "    x='company_location_country',\n",
    "    y=['avg_salary', 'current_location_avg_salary', 'savings_percentage'],\n",
    "    title='Salary and Savings Comparison by Company Location',\n",
    "    labels={\n",
    "        'avg_salary': 'Avg Salary (USD)',\n",
    "        'current_location_avg_salary': 'Current Location Avg Salary (USD)',\n",
    "        'savings_percentage': 'Savings Percentage'\n",
    "    },\n",
    "    barmode='group'\n",
    ")\n",
    "\n",
    "fig.show()"
   ]
  },
  {
   "cell_type": "code",
   "execution_count": null,
   "id": "38491e56-e99e-4131-a712-76468d0a2491",
   "metadata": {},
   "outputs": [],
   "source": [
    "H3_company_location_ES = pd.read_csv(\"H3_company_location_ES.csv\")\n",
    "filtered_df = H3_company_location_ES[H3_company_location_ES['job_title'] == 'Data Analyst']\n",
    "filtered_df = filtered_df.sort_values(by='salary_per_year', ascending=False)"
   ]
  },
  {
   "cell_type": "code",
   "execution_count": null,
   "id": "fc3f3d75-e125-4819-952c-92663232d933",
   "metadata": {},
   "outputs": [],
   "source": [
    "fig = px.bar(\n",
    "    filtered_df,\n",
    "    x='company_location',  # X-axis: company locations\n",
    "    y='salary_per_year',   # Y-axis: salary per year\n",
    "    color='company_location',  # Optional: differentiate by color\n",
    "    title='Data Analyst Salary by Location',\n",
    "    labels={'salary_per_year': 'Salary per Year (USD)', 'company_location': 'Company Location'}\n",
    ")\n",
    "\n",
    "# Show the plot\n",
    "fig.show()"
   ]
  },
  {
   "cell_type": "code",
   "execution_count": null,
   "id": "223330a2-e6c4-440e-85ff-64c0ec96d8c5",
   "metadata": {},
   "outputs": [],
   "source": [
    "H3_company_location_ES_sorted = H3_company_location_ES.sort_values(by='salary_per_year', ascending=False).head(10)\n",
    "\n",
    "# Define custom color for Japan\n",
    "color_map = {'Japan': 'blue'}\n",
    "\n",
    "# Create the bar chart\n",
    "fig = px.bar(\n",
    "    H3_company_location_ES_sorted,\n",
    "    x='company_location',  # X-axis: company locations\n",
    "    y='salary_per_year',   # Y-axis: salary per year\n",
    "    color='company_location',  # Color by company location\n",
    "    title='Top 10 Salaries by Company Location',\n",
    "    labels={'salary_per_year': 'Salary per Year (USD)', 'company_location': 'Company Location'},\n",
    "    color_discrete_map=color_map  # Assign blue color to Japan\n",
    ")\n",
    "\n",
    "# Show the plot\n",
    "fig.show()"
   ]
  },
  {
   "cell_type": "code",
   "execution_count": null,
   "id": "14b1e76c-a3a6-4764-a8ad-da7b7f8db728",
   "metadata": {},
   "outputs": [],
   "source": [
    "H4_1 = pd.read_csv(\"H3_company_location_setting_ES.csv\")"
   ]
  },
  {
   "cell_type": "code",
   "execution_count": null,
   "id": "f2d7cbd2-b8a1-4be4-ac40-583fb44f89d7",
   "metadata": {},
   "outputs": [],
   "source": [
    "H4 = pd.read_csv(\"H3_avg_salary_by_worksetting_employee_country(ALV).csv\")"
   ]
  },
  {
   "cell_type": "code",
   "execution_count": null,
   "id": "ff42590b-d626-4487-b23c-82331daec255",
   "metadata": {},
   "outputs": [],
   "source": [
    "fig = px.bar(H4_1, x='work_setting', y='salary_per_year', \n",
    "             title='Average Salary by Work Setting',\n",
    "             labels={'salary_per_year': 'Average Salary (USD)', 'work_setting': 'Work Setting'})\n",
    "\n",
    "\n",
    "\n",
    "# Increase the margin to give more space for labels\n",
    "fig.update_layout(margin=dict(t=50, b=100))\n",
    "\n",
    "# Show the plot\n",
    "fig.show()"
   ]
  },
  {
   "cell_type": "code",
   "execution_count": null,
   "id": "64c466d1-fd1b-44af-b32d-6fff4d08fd36",
   "metadata": {},
   "outputs": [],
   "source": [
    "fig = px.bar(\n",
    "    H4,\n",
    "    x='employee_residence_country',  # X-axis: country\n",
    "    y='avg_salary',                  # Y-axis: average salary\n",
    "    color='work_setting',            # Color by work setting\n",
    "    title='Average Salary by Work Setting and Country',\n",
    "    labels={'avg_salary': 'Average Salary (USD)', 'employee_residence_country': 'Country'},\n",
    "    barmode='group'                  # Group bars by work setting\n",
    ")\n",
    "\n",
    "# Show the plot\n",
    "fig.show()"
   ]
  },
  {
   "cell_type": "code",
   "execution_count": null,
   "id": "392ba83c-ed5b-4bf3-afb8-51739e45835e",
   "metadata": {},
   "outputs": [],
   "source": [
    "data = pd.read_csv(\"H1_avg_salary_byjob_title_in_categories(ALV).csv\")"
   ]
  },
  {
   "cell_type": "code",
   "execution_count": null,
   "id": "dc31332e-8202-44e4-89e0-5ce0eabae533",
   "metadata": {},
   "outputs": [],
   "source": [
    "fig = px.bar(\n",
    "    data,\n",
    "    x='category_name',        # X-axis: category name\n",
    "    y='avg_salary',           # Y-axis: average salary\n",
    "    color='job_title',        # Color by job title\n",
    "    barmode='group',          # Group bars for each category\n",
    "    title='Average Salary by Job Title in Each Category',\n",
    "    labels={'avg_salary': 'Average Salary per year (USD)', 'category_name': 'Category'}\n",
    ")\n",
    "\n",
    "# Show the plot\n",
    "fig.show()"
   ]
  },
  {
   "cell_type": "code",
   "execution_count": null,
   "id": "5bdc75e8-4cee-41ee-908d-05d84dfc0540",
   "metadata": {},
   "outputs": [],
   "source": []
  }
 ],
 "metadata": {
  "kernelspec": {
   "display_name": "Python 3 (ipykernel)",
   "language": "python",
   "name": "python3"
  },
  "language_info": {
   "codemirror_mode": {
    "name": "ipython",
    "version": 3
   },
   "file_extension": ".py",
   "mimetype": "text/x-python",
   "name": "python",
   "nbconvert_exporter": "python",
   "pygments_lexer": "ipython3",
   "version": "3.12.4"
  }
 },
 "nbformat": 4,
 "nbformat_minor": 5
}
